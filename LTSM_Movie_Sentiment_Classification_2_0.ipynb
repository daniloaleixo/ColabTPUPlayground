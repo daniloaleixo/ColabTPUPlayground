{
  "nbformat": 4,
  "nbformat_minor": 0,
  "metadata": {
    "colab": {
      "name": "LTSM - Movie Sentiment Classification 2.0.ipynb",
      "provenance": [],
      "authorship_tag": "ABX9TyOyMpcyeKs+9BXVAwEKUBCE",
      "include_colab_link": true
    },
    "kernelspec": {
      "name": "python3",
      "display_name": "Python 3"
    },
    "accelerator": "GPU"
  },
  "cells": [
    {
      "cell_type": "markdown",
      "metadata": {
        "id": "view-in-github",
        "colab_type": "text"
      },
      "source": [
        "<a href=\"https://colab.research.google.com/github/daniloaleixo/ColabTPUPlayground/blob/master/LTSM_Movie_Sentiment_Classification_2_0.ipynb\" target=\"_parent\"><img src=\"https://colab.research.google.com/assets/colab-badge.svg\" alt=\"Open In Colab\"/></a>"
      ]
    },
    {
      "cell_type": "markdown",
      "metadata": {
        "id": "VHYDH4TzfiH6",
        "colab_type": "text"
      },
      "source": [
        "# LSTM Movie Sentiment Classification\n",
        "\n",
        "From tutorial: https://towardsdatascience.com/sentiment-analysis-using-lstm-step-by-step-50d074f09948"
      ]
    },
    {
      "cell_type": "code",
      "metadata": {
        "id": "-htJG2YxajuS",
        "colab_type": "code",
        "colab": {}
      },
      "source": [
        "%matplotlib inline\n",
        "import matplotlib\n",
        "import matplotlib.pyplot as plt\n",
        "import os\n",
        "\n",
        "import numpy as np\n",
        "import pandas as pd\n",
        "from keras.utils import to_categorical\n",
        "from keras import models\n",
        "from keras import layers\n",
        "import keras"
      ],
      "execution_count": 0,
      "outputs": []
    },
    {
      "cell_type": "markdown",
      "metadata": {
        "id": "yJu4EnEGdPr2",
        "colab_type": "text"
      },
      "source": [
        "## Load data\n",
        "\n",
        "Get file"
      ]
    },
    {
      "cell_type": "code",
      "metadata": {
        "id": "xeTgHq_J6NhA",
        "colab_type": "code",
        "colab": {}
      },
      "source": [
        "try:\n",
        "  csv = pd.read_csv(\"imdb-dataset-of-50k-movie-reviews.zip\")\n",
        "except IOError:\n",
        "  !wget https://www.dropbox.com/s/pq4yo20ym7fuvc0/imdb-dataset-of-50k-movie-reviews.zip?dl=1 \\\n",
        "  && !mv imdb-dataset-of-50k-movie-reviews.zip\\?dl\\=1 imdb-dataset-of-50k-movie-reviews.zip \\\n",
        "  && !unzip imdb-dataset-of-50k-movie-reviews.zip"
      ],
      "execution_count": 0,
      "outputs": []
    },
    {
      "cell_type": "code",
      "metadata": {
        "id": "z0PU_HS14uLO",
        "colab_type": "code",
        "colab": {}
      },
      "source": [
        "reviews = csv[\"review\"]\n",
        "labels = csv[\"sentiment\"]"
      ],
      "execution_count": 0,
      "outputs": []
    },
    {
      "cell_type": "markdown",
      "metadata": {
        "id": "mCJT5j-s5DyT",
        "colab_type": "text"
      },
      "source": [
        "Now we have both dataframes with our reviews and the correspondent sentiment"
      ]
    },
    {
      "cell_type": "code",
      "metadata": {
        "id": "IorfK-9-5Cki",
        "colab_type": "code",
        "colab": {
          "base_uri": "https://localhost:8080/",
          "height": 408
        },
        "outputId": "c85fbb07-28d7-4676-ca4e-86f4104cce0b"
      },
      "source": [
        "print(reviews[:10])\n",
        "print()\n",
        "print(labels[:10])"
      ],
      "execution_count": 63,
      "outputs": [
        {
          "output_type": "stream",
          "text": [
            "0    One of the other reviewers has mentioned that ...\n",
            "1    A wonderful little production. <br /><br />The...\n",
            "2    I thought this was a wonderful way to spend ti...\n",
            "3    Basically there's a family where a little boy ...\n",
            "4    Petter Mattei's \"Love in the Time of Money\" is...\n",
            "5    Probably my all-time favorite movie, a story o...\n",
            "6    I sure would like to see a resurrection of a u...\n",
            "7    This show was an amazing, fresh & innovative i...\n",
            "8    Encouraged by the positive comments about this...\n",
            "9    If you like original gut wrenching laughter yo...\n",
            "Name: review, dtype: object\n",
            "\n",
            "0    positive\n",
            "1    positive\n",
            "2    positive\n",
            "3    negative\n",
            "4    positive\n",
            "5    positive\n",
            "6    positive\n",
            "7    negative\n",
            "8    negative\n",
            "9    positive\n",
            "Name: sentiment, dtype: object\n"
          ],
          "name": "stdout"
        }
      ]
    },
    {
      "cell_type": "markdown",
      "metadata": {
        "id": "pYPhNNdJ5TyO",
        "colab_type": "text"
      },
      "source": [
        "## Data processing"
      ]
    },
    {
      "cell_type": "markdown",
      "metadata": {
        "id": "qRGKX0ul51dL",
        "colab_type": "text"
      },
      "source": [
        "### Convert to lowercase"
      ]
    },
    {
      "cell_type": "code",
      "metadata": {
        "id": "qqkCyQZ55Pt7",
        "colab_type": "code",
        "colab": {
          "base_uri": "https://localhost:8080/",
          "height": 221
        },
        "outputId": "ea401b25-576d-4532-a6c8-3eb90af1b517"
      },
      "source": [
        "reviews = reviews.str.lower()\n",
        "reviews"
      ],
      "execution_count": 64,
      "outputs": [
        {
          "output_type": "execute_result",
          "data": {
            "text/plain": [
              "0        one of the other reviewers has mentioned that ...\n",
              "1        a wonderful little production. <br /><br />the...\n",
              "2        i thought this was a wonderful way to spend ti...\n",
              "3        basically there's a family where a little boy ...\n",
              "4        petter mattei's \"love in the time of money\" is...\n",
              "                               ...                        \n",
              "49995    i thought this movie did a down right good job...\n",
              "49996    bad plot, bad dialogue, bad acting, idiotic di...\n",
              "49997    i am a catholic taught in parochial elementary...\n",
              "49998    i'm going to have to disagree with the previou...\n",
              "49999    no one expects the star trek movies to be high...\n",
              "Name: review, Length: 50000, dtype: object"
            ]
          },
          "metadata": {
            "tags": []
          },
          "execution_count": 64
        }
      ]
    },
    {
      "cell_type": "markdown",
      "metadata": {
        "id": "_-iZyTNR8aKw",
        "colab_type": "text"
      },
      "source": [
        "### Remove HTML tags"
      ]
    },
    {
      "cell_type": "code",
      "metadata": {
        "id": "ajZiiC-78Zln",
        "colab_type": "code",
        "colab": {
          "base_uri": "https://localhost:8080/",
          "height": 221
        },
        "outputId": "488f5dc0-df9b-48bb-c0b9-29f519552a9b"
      },
      "source": [
        "import re\n",
        "\n",
        "TAG_RE = re.compile(r'<[^>]+>')\n",
        "\n",
        "def remove_tags(text):\n",
        "    return TAG_RE.sub('', text)\n",
        "\n",
        "reviews = reviews.apply(remove_tags)\n",
        "reviews"
      ],
      "execution_count": 66,
      "outputs": [
        {
          "output_type": "execute_result",
          "data": {
            "text/plain": [
              "0        one of the other reviewers has mentioned that ...\n",
              "1        a wonderful little production. the filming tec...\n",
              "2        i thought this was a wonderful way to spend ti...\n",
              "3        basically there's a family where a little boy ...\n",
              "4        petter mattei's \"love in the time of money\" is...\n",
              "                               ...                        \n",
              "49995    i thought this movie did a down right good job...\n",
              "49996    bad plot, bad dialogue, bad acting, idiotic di...\n",
              "49997    i am a catholic taught in parochial elementary...\n",
              "49998    i'm going to have to disagree with the previou...\n",
              "49999    no one expects the star trek movies to be high...\n",
              "Name: review, Length: 50000, dtype: object"
            ]
          },
          "metadata": {
            "tags": []
          },
          "execution_count": 66
        }
      ]
    },
    {
      "cell_type": "markdown",
      "metadata": {
        "id": "Z71d02FK53gB",
        "colab_type": "text"
      },
      "source": [
        "### Remove punctuation"
      ]
    },
    {
      "cell_type": "code",
      "metadata": {
        "id": "bsDqwi8c8IYY",
        "colab_type": "code",
        "colab": {
          "base_uri": "https://localhost:8080/",
          "height": 34
        },
        "outputId": "ccbd2638-be35-4854-ec33-a3e4e230ff65"
      },
      "source": [
        "from string import punctuation\n",
        "print(punctuation)"
      ],
      "execution_count": 67,
      "outputs": [
        {
          "output_type": "stream",
          "text": [
            "!\"#$%&'()*+,-./:;<=>?@[\\]^_`{|}~\n"
          ],
          "name": "stdout"
        }
      ]
    },
    {
      "cell_type": "code",
      "metadata": {
        "id": "UGBMb8TZ6A9i",
        "colab_type": "code",
        "colab": {
          "base_uri": "https://localhost:8080/",
          "height": 221
        },
        "outputId": "8983adac-aec9-4767-d1bb-ab031b004def"
      },
      "source": [
        "def remove_punctuations(text):\n",
        "    for punct in punctuation:\n",
        "        text = text.replace(punct, '')\n",
        "    return text\n",
        "\n",
        "reviews = reviews.apply(remove_punctuations)\n",
        "reviews"
      ],
      "execution_count": 68,
      "outputs": [
        {
          "output_type": "execute_result",
          "data": {
            "text/plain": [
              "0        one of the other reviewers has mentioned that ...\n",
              "1        a wonderful little production the filming tech...\n",
              "2        i thought this was a wonderful way to spend ti...\n",
              "3        basically theres a family where a little boy j...\n",
              "4        petter matteis love in the time of money is a ...\n",
              "                               ...                        \n",
              "49995    i thought this movie did a down right good job...\n",
              "49996    bad plot bad dialogue bad acting idiotic direc...\n",
              "49997    i am a catholic taught in parochial elementary...\n",
              "49998    im going to have to disagree with the previous...\n",
              "49999    no one expects the star trek movies to be high...\n",
              "Name: review, Length: 50000, dtype: object"
            ]
          },
          "metadata": {
            "tags": []
          },
          "execution_count": 68
        }
      ]
    },
    {
      "cell_type": "code",
      "metadata": {
        "id": "BwdDZFg07zRg",
        "colab_type": "code",
        "colab": {}
      },
      "source": [
        ""
      ],
      "execution_count": 0,
      "outputs": []
    }
  ]
}