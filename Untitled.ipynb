{
  "nbformat": 4,
  "nbformat_minor": 0,
  "metadata": {
    "colab": {
      "name": "Untitled",
      "provenance": [],
      "collapsed_sections": [
        "4fzl6zr_x6x9"
      ],
      "include_colab_link": true
    },
    "kernelspec": {
      "name": "python3",
      "display_name": "Python 3"
    },
    "accelerator": "TPU"
  },
  "cells": [
    {
      "cell_type": "markdown",
      "metadata": {
        "id": "view-in-github",
        "colab_type": "text"
      },
      "source": [
        "<a href=\"https://colab.research.google.com/github/daniloaleixo/ColabTPUPlayground/blob/master/Untitled.ipynb\" target=\"_parent\"><img src=\"https://colab.research.google.com/assets/colab-badge.svg\" alt=\"Open In Colab\"/></a>"
      ]
    },
    {
      "cell_type": "markdown",
      "metadata": {
        "id": "LEFxkd9e2Q14",
        "colab_type": "text"
      },
      "source": [
        "# Treine sua primeira rede neural: classificação básica\n"
      ]
    },
    {
      "cell_type": "code",
      "metadata": {
        "id": "s7kHalXvvBOt",
        "colab_type": "code",
        "colab": {}
      },
      "source": [
        "from __future__ import absolute_import, division, print_function, unicode_literals\n",
        "\n",
        "# TensorFlow e tf.keras\n",
        "import tensorflow as tf\n",
        "from tensorflow import keras\n",
        "\n",
        "# Librariesauxiliares\n",
        "import numpy as np\n",
        "import matplotlib.pyplot as plt\n",
        "\n",
        "print(tf.__version__)"
      ],
      "execution_count": 0,
      "outputs": []
    },
    {
      "cell_type": "markdown",
      "metadata": {
        "id": "S5PKak1L2elp",
        "colab_type": "text"
      },
      "source": [
        "### TPU Config"
      ]
    },
    {
      "cell_type": "code",
      "metadata": {
        "id": "bTyyhVjh2hUV",
        "colab_type": "code",
        "colab": {}
      },
      "source": [
        "import os\n",
        "import pprint\n",
        "\n",
        "use_tpu = True #@param {type:\"boolean\"}\n",
        "\n",
        "if use_tpu:\n",
        "    assert 'COLAB_TPU_ADDR' in os.environ, 'Missing TPU; did you request a TPU in Notebook Settings?'\n",
        "\n",
        "if 'COLAB_TPU_ADDR' in os.environ:\n",
        "  TF_MASTER = 'grpc://{}'.format(os.environ['COLAB_TPU_ADDR'])\n",
        "else:\n",
        "  TF_MASTER=''\n",
        "\n",
        "with tf.Session(TF_MASTER) as session:\n",
        "  print ('List of devices:')\n",
        "  pprint.pprint(session.list_devices())\n",
        "\n",
        "tpu_address = TF_MASTER\n",
        "batch_size = 32\n",
        "epochs = 100\n"
      ],
      "execution_count": 0,
      "outputs": []
    },
    {
      "cell_type": "markdown",
      "metadata": {
        "id": "gtJoSznyw5kY",
        "colab_type": "text"
      },
      "source": [
        "## Importe a base de dados Fashion MNIST"
      ]
    },
    {
      "cell_type": "markdown",
      "metadata": {
        "id": "sdllWzyIw8Yu",
        "colab_type": "text"
      },
      "source": [
        "Esse tutorial usa a base de dados Fashion MNIST que contém 70,000 imagens em tons de cinza em 10 categorias. As imagens mostram artigos individuais de roupas com baixa resolução (28 por 28 pixels), como vemos aqui:\n",
        "Fashion MNIST tem como intenção substituir a clássica base de dados MNIST— frequentemente usada como \"Hello, World\" de programas de aprendizado de máquina (machine learning) para visão computacional. A base de dados MNIST contém imagens de dígitos escritos à mão (0, 1, 2, etc.) em um formato idêntico ao dos artigos de roupas que usaremos aqui.\n",
        "\n",
        "Esse tutorial usa a Fashion MNIST para variar, e porque é um problema um pouco mais desafiador que o regular MNIST. Ambas bases são relativamente pequenas e são usadas para verificar se um algoritmo funciona como esperado. Elas são bons pontos de partida para testar e debugar código.\n",
        "\n",
        "Usaremos 60,000 imagens para treinar nossa rede e 10,000 imagens para avaliar quão precisamente nossa rede aprendeu a classificar as imagens. Você pode acessar a Fashion MNIST directly diretamente do TensorFlow. Importe e carregue a base Fashion MNIST diretamente do TensorFlow:"
      ]
    },
    {
      "cell_type": "code",
      "metadata": {
        "id": "WNx6OSdAvv2l",
        "colab_type": "code",
        "colab": {}
      },
      "source": [
        "fashion_mnist = keras.datasets.fashion_mnist\n",
        "\n",
        "(train_images, train_labels), (test_images, test_labels) = fashion_mnist.load_data()"
      ],
      "execution_count": 0,
      "outputs": []
    },
    {
      "cell_type": "markdown",
      "metadata": {
        "id": "Er7HNXUwxWzG",
        "colab_type": "text"
      },
      "source": [
        "Carregando a base de dados que retorna quatro NumPy arrays:\n",
        "\n",
        "Os arrays train_images e train_labels são o conjunto de treinamento— os dados do modelo usados para aprender.\n",
        "O modelo é testado com o conjunto de teste, os arrays test_images e test_labels.\n",
        "As imagens são arrays NumPy de 28x28, com os valores des pixels entre 0 to 255. As labels (alvo da classificação) são um array de inteiros, no intervalo de 0 a 9. Esse corresponde com a classe de roupa que cada imagem representa:\n",
        "\n",
        "Label\tClasse\n",
        "* 0\tCamisetas/Top (T-shirt/top)\n",
        "* 1\tCalça (Trouser)\n",
        "* 2\tSuéter (Pullover)\n",
        "* 3\tVestidos (Dress)\n",
        "* 4\tCasaco (Coat)\n",
        "* 5\tSandálias (Sandal)\n",
        "* 6\tCamisas (Shirt)\n",
        "* 7\tTênis (Sneaker)\n",
        "* 8\tBolsa (Bag)\n",
        "* 9\tBotas (Ankle boot)\n",
        "\n",
        "Cada imagem é mapeada com um só label. Já que o nome das classes não são incluídas na base de dados, armazene os dados aqui para usá-los mais tarde quando plotarmos as imagens:"
      ]
    },
    {
      "cell_type": "code",
      "metadata": {
        "id": "fe59MNaEwBQg",
        "colab_type": "code",
        "colab": {}
      },
      "source": [
        "class_names = ['T-shirt/top', 'Trouser', 'Pullover', 'Dress', 'Coat',\n",
        "               'Sandal', 'Shirt', 'Sneaker', 'Bag', 'Ankle boot']"
      ],
      "execution_count": 0,
      "outputs": []
    },
    {
      "cell_type": "markdown",
      "metadata": {
        "id": "4fzl6zr_x6x9",
        "colab_type": "text"
      },
      "source": [
        "## Explore os dados"
      ]
    },
    {
      "cell_type": "markdown",
      "metadata": {
        "id": "HnOsqkH3x9XX",
        "colab_type": "text"
      },
      "source": [
        "Vamos explorar o formato da base de dados antes de treinar o modelo. O próximo comando mostra que existem 60000 imagens no conjunto de treinamento, e cada imagem é representada em 28 x 28 pixels:"
      ]
    },
    {
      "cell_type": "code",
      "metadata": {
        "id": "wnYr7MrSwHlK",
        "colab_type": "code",
        "outputId": "a08977cc-f3ff-4cb1-a144-35ddd6d852fc",
        "colab": {
          "base_uri": "https://localhost:8080/",
          "height": 1000
        }
      },
      "source": [
        "train_images.shape\n",
        "\n",
        "train_images[0]"
      ],
      "execution_count": 22,
      "outputs": [
        {
          "output_type": "execute_result",
          "data": {
            "text/plain": [
              "array([[  0,   0,   0,   0,   0,   0,   0,   0,   0,   0,   0,   0,   0,\n",
              "          0,   0,   0,   0,   0,   0,   0,   0,   0,   0,   0,   0,   0,\n",
              "          0,   0],\n",
              "       [  0,   0,   0,   0,   0,   0,   0,   0,   0,   0,   0,   0,   0,\n",
              "          0,   0,   0,   0,   0,   0,   0,   0,   0,   0,   0,   0,   0,\n",
              "          0,   0],\n",
              "       [  0,   0,   0,   0,   0,   0,   0,   0,   0,   0,   0,   0,   0,\n",
              "          0,   0,   0,   0,   0,   0,   0,   0,   0,   0,   0,   0,   0,\n",
              "          0,   0],\n",
              "       [  0,   0,   0,   0,   0,   0,   0,   0,   0,   0,   0,   0,   1,\n",
              "          0,   0,  13,  73,   0,   0,   1,   4,   0,   0,   0,   0,   1,\n",
              "          1,   0],\n",
              "       [  0,   0,   0,   0,   0,   0,   0,   0,   0,   0,   0,   0,   3,\n",
              "          0,  36, 136, 127,  62,  54,   0,   0,   0,   1,   3,   4,   0,\n",
              "          0,   3],\n",
              "       [  0,   0,   0,   0,   0,   0,   0,   0,   0,   0,   0,   0,   6,\n",
              "          0, 102, 204, 176, 134, 144, 123,  23,   0,   0,   0,   0,  12,\n",
              "         10,   0],\n",
              "       [  0,   0,   0,   0,   0,   0,   0,   0,   0,   0,   0,   0,   0,\n",
              "          0, 155, 236, 207, 178, 107, 156, 161, 109,  64,  23,  77, 130,\n",
              "         72,  15],\n",
              "       [  0,   0,   0,   0,   0,   0,   0,   0,   0,   0,   0,   1,   0,\n",
              "         69, 207, 223, 218, 216, 216, 163, 127, 121, 122, 146, 141,  88,\n",
              "        172,  66],\n",
              "       [  0,   0,   0,   0,   0,   0,   0,   0,   0,   1,   1,   1,   0,\n",
              "        200, 232, 232, 233, 229, 223, 223, 215, 213, 164, 127, 123, 196,\n",
              "        229,   0],\n",
              "       [  0,   0,   0,   0,   0,   0,   0,   0,   0,   0,   0,   0,   0,\n",
              "        183, 225, 216, 223, 228, 235, 227, 224, 222, 224, 221, 223, 245,\n",
              "        173,   0],\n",
              "       [  0,   0,   0,   0,   0,   0,   0,   0,   0,   0,   0,   0,   0,\n",
              "        193, 228, 218, 213, 198, 180, 212, 210, 211, 213, 223, 220, 243,\n",
              "        202,   0],\n",
              "       [  0,   0,   0,   0,   0,   0,   0,   0,   0,   1,   3,   0,  12,\n",
              "        219, 220, 212, 218, 192, 169, 227, 208, 218, 224, 212, 226, 197,\n",
              "        209,  52],\n",
              "       [  0,   0,   0,   0,   0,   0,   0,   0,   0,   0,   6,   0,  99,\n",
              "        244, 222, 220, 218, 203, 198, 221, 215, 213, 222, 220, 245, 119,\n",
              "        167,  56],\n",
              "       [  0,   0,   0,   0,   0,   0,   0,   0,   0,   4,   0,   0,  55,\n",
              "        236, 228, 230, 228, 240, 232, 213, 218, 223, 234, 217, 217, 209,\n",
              "         92,   0],\n",
              "       [  0,   0,   1,   4,   6,   7,   2,   0,   0,   0,   0,   0, 237,\n",
              "        226, 217, 223, 222, 219, 222, 221, 216, 223, 229, 215, 218, 255,\n",
              "         77,   0],\n",
              "       [  0,   3,   0,   0,   0,   0,   0,   0,   0,  62, 145, 204, 228,\n",
              "        207, 213, 221, 218, 208, 211, 218, 224, 223, 219, 215, 224, 244,\n",
              "        159,   0],\n",
              "       [  0,   0,   0,   0,  18,  44,  82, 107, 189, 228, 220, 222, 217,\n",
              "        226, 200, 205, 211, 230, 224, 234, 176, 188, 250, 248, 233, 238,\n",
              "        215,   0],\n",
              "       [  0,  57, 187, 208, 224, 221, 224, 208, 204, 214, 208, 209, 200,\n",
              "        159, 245, 193, 206, 223, 255, 255, 221, 234, 221, 211, 220, 232,\n",
              "        246,   0],\n",
              "       [  3, 202, 228, 224, 221, 211, 211, 214, 205, 205, 205, 220, 240,\n",
              "         80, 150, 255, 229, 221, 188, 154, 191, 210, 204, 209, 222, 228,\n",
              "        225,   0],\n",
              "       [ 98, 233, 198, 210, 222, 229, 229, 234, 249, 220, 194, 215, 217,\n",
              "        241,  65,  73, 106, 117, 168, 219, 221, 215, 217, 223, 223, 224,\n",
              "        229,  29],\n",
              "       [ 75, 204, 212, 204, 193, 205, 211, 225, 216, 185, 197, 206, 198,\n",
              "        213, 240, 195, 227, 245, 239, 223, 218, 212, 209, 222, 220, 221,\n",
              "        230,  67],\n",
              "       [ 48, 203, 183, 194, 213, 197, 185, 190, 194, 192, 202, 214, 219,\n",
              "        221, 220, 236, 225, 216, 199, 206, 186, 181, 177, 172, 181, 205,\n",
              "        206, 115],\n",
              "       [  0, 122, 219, 193, 179, 171, 183, 196, 204, 210, 213, 207, 211,\n",
              "        210, 200, 196, 194, 191, 195, 191, 198, 192, 176, 156, 167, 177,\n",
              "        210,  92],\n",
              "       [  0,   0,  74, 189, 212, 191, 175, 172, 175, 181, 185, 188, 189,\n",
              "        188, 193, 198, 204, 209, 210, 210, 211, 188, 188, 194, 192, 216,\n",
              "        170,   0],\n",
              "       [  2,   0,   0,   0,  66, 200, 222, 237, 239, 242, 246, 243, 244,\n",
              "        221, 220, 193, 191, 179, 182, 182, 181, 176, 166, 168,  99,  58,\n",
              "          0,   0],\n",
              "       [  0,   0,   0,   0,   0,   0,   0,  40,  61,  44,  72,  41,  35,\n",
              "          0,   0,   0,   0,   0,   0,   0,   0,   0,   0,   0,   0,   0,\n",
              "          0,   0],\n",
              "       [  0,   0,   0,   0,   0,   0,   0,   0,   0,   0,   0,   0,   0,\n",
              "          0,   0,   0,   0,   0,   0,   0,   0,   0,   0,   0,   0,   0,\n",
              "          0,   0],\n",
              "       [  0,   0,   0,   0,   0,   0,   0,   0,   0,   0,   0,   0,   0,\n",
              "          0,   0,   0,   0,   0,   0,   0,   0,   0,   0,   0,   0,   0,\n",
              "          0,   0]], dtype=uint8)"
            ]
          },
          "metadata": {
            "tags": []
          },
          "execution_count": 22
        }
      ]
    },
    {
      "cell_type": "markdown",
      "metadata": {
        "id": "43pcm0Nrx_rp",
        "colab_type": "text"
      },
      "source": [
        "Do mesmo modo, existem 60000 labels no conjunto de treinamento:"
      ]
    },
    {
      "cell_type": "code",
      "metadata": {
        "id": "dp8w0cQLwJWn",
        "colab_type": "code",
        "outputId": "18019054-87a0-4bba-92ca-14faae7be1a2",
        "colab": {
          "base_uri": "https://localhost:8080/",
          "height": 34
        }
      },
      "source": [
        "len(train_labels)"
      ],
      "execution_count": 6,
      "outputs": [
        {
          "output_type": "execute_result",
          "data": {
            "text/plain": [
              "60000"
            ]
          },
          "metadata": {
            "tags": []
          },
          "execution_count": 6
        }
      ]
    },
    {
      "cell_type": "markdown",
      "metadata": {
        "id": "MuvpX4ODyBjw",
        "colab_type": "text"
      },
      "source": [
        "Cada label é um inteiro entre 0 e 9:"
      ]
    },
    {
      "cell_type": "code",
      "metadata": {
        "id": "sNHa3wF5wKUr",
        "colab_type": "code",
        "outputId": "64b8108e-de7d-4dc6-c2c1-ff2ca43fdc04",
        "colab": {
          "base_uri": "https://localhost:8080/",
          "height": 34
        }
      },
      "source": [
        "train_labels"
      ],
      "execution_count": 7,
      "outputs": [
        {
          "output_type": "execute_result",
          "data": {
            "text/plain": [
              "array([9, 0, 0, ..., 3, 0, 5], dtype=uint8)"
            ]
          },
          "metadata": {
            "tags": []
          },
          "execution_count": 7
        }
      ]
    },
    {
      "cell_type": "markdown",
      "metadata": {
        "id": "m8cYI_NIyFU8",
        "colab_type": "text"
      },
      "source": [
        "Existem 10000 imagens no conjnto de teste. Novamente, cada imagem é representada por 28 x 28 pixels:\n",
        "\n"
      ]
    },
    {
      "cell_type": "code",
      "metadata": {
        "id": "-FhvDRePyKHz",
        "colab_type": "code",
        "outputId": "af6d30bb-6fa1-48db-814e-512af6ab2e23",
        "colab": {
          "base_uri": "https://localhost:8080/",
          "height": 34
        }
      },
      "source": [
        "test_images.shape"
      ],
      "execution_count": 8,
      "outputs": [
        {
          "output_type": "execute_result",
          "data": {
            "text/plain": [
              "(10000, 28, 28)"
            ]
          },
          "metadata": {
            "tags": []
          },
          "execution_count": 8
        }
      ]
    },
    {
      "cell_type": "markdown",
      "metadata": {
        "id": "quqsdM-FyLvR",
        "colab_type": "text"
      },
      "source": [
        "E um conjunto de teste contendo 10000 labels das imagens :\n",
        "\n"
      ]
    },
    {
      "cell_type": "code",
      "metadata": {
        "id": "sLR5ZSR3wLw8",
        "colab_type": "code",
        "outputId": "6b40b4ab-bafb-4d58-9c50-5967452ee4f8",
        "colab": {
          "base_uri": "https://localhost:8080/",
          "height": 34
        }
      },
      "source": [
        "len(test_labels)"
      ],
      "execution_count": 0,
      "outputs": [
        {
          "output_type": "execute_result",
          "data": {
            "text/plain": [
              "10000"
            ]
          },
          "metadata": {
            "tags": []
          },
          "execution_count": 7
        }
      ]
    },
    {
      "cell_type": "markdown",
      "metadata": {
        "id": "DQu8xRBtyPoH",
        "colab_type": "text"
      },
      "source": [
        "## Pré-processe os dados"
      ]
    },
    {
      "cell_type": "markdown",
      "metadata": {
        "id": "cGUwmcjEyRdl",
        "colab_type": "text"
      },
      "source": [
        "Os dados precisam ser pré-processados antes de treinar a rede. Se você inspecionar a primeira imagem do conjunto de treinamento, você verá que os valores dos pixels estão entre 0 e 255:\n",
        "\n"
      ]
    },
    {
      "cell_type": "code",
      "metadata": {
        "id": "4whp4NrFwNMC",
        "colab_type": "code",
        "outputId": "4a9cb187-2326-46e1-c250-acd2ad1f621a",
        "colab": {
          "base_uri": "https://localhost:8080/",
          "height": 265
        }
      },
      "source": [
        "plt.figure()\n",
        "plt.imshow(train_images[1])\n",
        "plt.colorbar()\n",
        "plt.grid(False)\n",
        "plt.show()"
      ],
      "execution_count": 6,
      "outputs": [
        {
          "output_type": "display_data",
          "data": {
            "image/png": "[encoded data removed]",
            "text/plain": [
              "<Figure size 432x288 with 2 Axes>"
            ]
          },
          "metadata": {
            "tags": []
          }
        }
      ]
    },
    {
      "cell_type": "markdown",
      "metadata": {
        "id": "dY-t6wRlyT_h",
        "colab_type": "text"
      },
      "source": [
        "Escalaremos esses valores no intervalo de 0 e 1 antes antes de alimentar o modelo da rede neural. Para fazer isso, dividimos os valores por 255. É importante que o conjunto de treinamento e o conjunto de teste podem ser pré-processados do mesmo modo:"
      ]
    },
    {
      "cell_type": "markdown",
      "metadata": {
        "id": "a27TfJmD27tz",
        "colab_type": "text"
      },
      "source": [
        "### TPU Inputs"
      ]
    },
    {
      "cell_type": "code",
      "metadata": {
        "id": "Q0fISVde3H5U",
        "colab_type": "code",
        "colab": {
          "base_uri": "https://localhost:8080/",
          "height": 34
        },
        "outputId": "b672314f-5c20-4501-cc8d-048ce0ec214e"
      },
      "source": [
        "def train_input_fn(x_train, y_train, batch_size=1024, divider=1):\n",
        "  # Converts images\n",
        "  x_train = x_train / divider\n",
        "  x_train = tf.cast(x_train, tf.float32)\n",
        "  x_train = tf.reshape(x_train, ((tf.shape(x_train)[0], -1)))\n",
        "  y_train = tf.cast(y_train, tf.float32)\n",
        "  y_train = tf.reshape(y_train, (-1, 1))\n",
        "  \n",
        "\n",
        "  # Convert the inputs to a Dataset.\n",
        "  dataset = tf.data.Dataset.from_tensor_slices((x_train,y_train))\n",
        "  # Shuffle, repeat, and batch the examples.\n",
        "  dataset = dataset.cache()\n",
        "  dataset = dataset.shuffle(1000, reshuffle_each_iteration=True)\n",
        "  dataset = dataset.repeat()\n",
        "  dataset = dataset.batch(batch_size, drop_remainder=True)\n",
        "  # Return the dataset.\n",
        "  return dataset\n",
        "\n",
        "train_input_fn(x_train=train_images, y_train=train_labels, batch_size=batch_size, divider=255.0)\n"
      ],
      "execution_count": 6,
      "outputs": [
        {
          "output_type": "execute_result",
          "data": {
            "text/plain": [
              "<DatasetV1Adapter shapes: ((32, 784), (32, 1)), types: (tf.float32, tf.float32)>"
            ]
          },
          "metadata": {
            "tags": []
          },
          "execution_count": 6
        }
      ]
    },
    {
      "cell_type": "markdown",
      "metadata": {
        "id": "_ceCNLu8yX7p",
        "colab_type": "text"
      },
      "source": [
        "Para verificar que os dados estão no formato correto e que estamos prontos para construir e treinar a rede, vamos mostrar as primeiras 25 imagens do conjunto de treinamento e mostrar o nome das classes de cada imagem abaixo.\n",
        "\n"
      ]
    },
    {
      "cell_type": "code",
      "metadata": {
        "id": "4pEjR895wVI0",
        "colab_type": "code",
        "outputId": "6efa2f4b-d3fc-41ce-fcd6-f1eaf7470c90",
        "colab": {
          "base_uri": "https://localhost:8080/",
          "height": 589
        }
      },
      "source": [
        "plt.figure(figsize=(10,10))\n",
        "for i in range(25):\n",
        "    plt.subplot(5,5,i+1)\n",
        "    plt.xticks([])\n",
        "    plt.yticks([])\n",
        "    plt.grid(False)\n",
        "    plt.imshow(train_images[i], cmap=plt.cm.binary)\n",
        "    plt.xlabel(class_names[train_labels[i]])\n",
        "plt.show()"
      ],
      "execution_count": 13,
      "outputs": [
        {
          "output_type": "display_data",
          "data": {
            "image/png": "[encoded data removed]",
            "text/plain": [
              "<Figure size 720x720 with 25 Axes>"
            ]
          },
          "metadata": {
            "tags": []
          }
        }
      ]
    },
    {
      "cell_type": "markdown",
      "metadata": {
        "id": "KJLUhrYdyZve",
        "colab_type": "text"
      },
      "source": [
        "## Construindo o modelo"
      ]
    },
    {
      "cell_type": "markdown",
      "metadata": {
        "id": "XIygKiAoybrz",
        "colab_type": "text"
      },
      "source": [
        "Construir a rede neural requer configurar as camadas do modelo, e depois, compilar o modelo.\n",
        "\n"
      ]
    },
    {
      "cell_type": "markdown",
      "metadata": {
        "id": "7r-XiMGpydB4",
        "colab_type": "text"
      },
      "source": [
        "### Montar as camadas"
      ]
    },
    {
      "cell_type": "markdown",
      "metadata": {
        "id": "JdvoxvAIyfB-",
        "colab_type": "text"
      },
      "source": [
        "O principal bloco de construção da rede neural é a camada (layer). As camadas (layers) extraem representações dos dados inseridos na rede. Com sorte, essas representações são significativas para o problema à mão.\n",
        "\n",
        "Muito do deep learning consiste encadear simples camadas. Muitas camadas, como tf.keras.layers.Dense, tem paramêtros que são aprendidos durante o treinamento."
      ]
    },
    {
      "cell_type": "code",
      "metadata": {
        "id": "QMKvova6wWrW",
        "colab_type": "code",
        "colab": {
          "base_uri": "https://localhost:8080/",
          "height": 88
        },
        "outputId": "e979dd4d-4517-49cd-b251-fda3f56fef69"
      },
      "source": [
        "def get_model(): \n",
        "  return keras.Sequential([\n",
        "      keras.layers.Flatten(input_shape=(28, 28)),\n",
        "      keras.layers.Dense(128, activation='relu'),\n",
        "      keras.layers.Dense(10, activation='softmax')\n",
        "  ])\n",
        "model = get_model()"
      ],
      "execution_count": 7,
      "outputs": [
        {
          "output_type": "stream",
          "text": [
            "WARNING:tensorflow:From /usr/local/lib/python3.6/dist-packages/tensorflow_core/python/ops/resource_variable_ops.py:1630: calling BaseResourceVariable.__init__ (from tensorflow.python.ops.resource_variable_ops) with constraint is deprecated and will be removed in a future version.\n",
            "Instructions for updating:\n",
            "If using Keras pass *_constraint arguments to layers.\n"
          ],
          "name": "stdout"
        }
      ]
    },
    {
      "cell_type": "markdown",
      "metadata": {
        "id": "v4TeD4SIyg9I",
        "colab_type": "text"
      },
      "source": [
        "A primeira camada da rede, tf.keras.layers.Flatten, transforma o formato da imagem de um array de imagens de duas dimensões (of 28 by 28 pixels) para um array de uma dimensão (de 28 * 28 = 784 pixels). Pense nessa camada como camadas não empilhadas de pixels de uma imagem e os emfilere. Essa camada não tem paramêtros para aprender; ela só reformata os dados.\n",
        "\n",
        "Depois dos pixels serem achatados, a rede consite de uma sequência de duas camadas tf.keras.layers.Dense. Essa são camadas neurais densely connected, ou fully connected. A primeira camada Dense tem 128 nós (ou neurônios). A segunda (e última) camda é uma softmax de 10 nós que retorna um array de 10 probabilidades, cuja soma resulta em 1. Cada nó contem um valor que indica a probabilidade de que aquela imagem pertence a uma das 10 classes."
      ]
    },
    {
      "cell_type": "markdown",
      "metadata": {
        "id": "KLx_KST4yjyR",
        "colab_type": "text"
      },
      "source": [
        "### Compile o modelo"
      ]
    },
    {
      "cell_type": "markdown",
      "metadata": {
        "id": "fMbNXAZOyms9",
        "colab_type": "text"
      },
      "source": [
        "Antes do modelo estar pronto para o treinamento, é necessário algumas configurações a mais. Essas serão adicionadas no passo de compilação:\n",
        "\n",
        "* Função Loss —Essa mede quão precisa o modelo é durante o treinamento. Queremos minimizar a função para guiar o modelo para direção certa.\n",
        "* Optimizer —Isso é como o modelo se atualiza com base no dado que ele vê e sua função loss.\n",
        "* Métricas —usadas para monitorar os passos de treinamento e teste. O exemplo abaixo usa a acurácia, a fração das imagens que foram classificadas corretamente."
      ]
    },
    {
      "cell_type": "code",
      "metadata": {
        "id": "MpgRPM5N3_PY",
        "colab_type": "code",
        "outputId": "9c2730ce-8a64-4bca-fa79-14d0e3d8e920",
        "colab": {
          "base_uri": "https://localhost:8080/",
          "height": 578
        }
      },
      "source": [
        "print(use_tpu, \"use_tpu\")\n",
        "if use_tpu:\n",
        "  resolver = tf.contrib.cluster_resolver.TPUClusterResolver(TF_MASTER)\n",
        "  tf.contrib.distribute.initialize_tpu_system(resolver)\n",
        "  strategy = tf.contrib.distribute.TPUStrategy(resolver)\n",
        "  with strategy.scope():\n",
        "    # Optimizer = tf.keras.optimizers.SGD(lr=1e-3, momentum=0.3, decay=0, nesterov=False)\n",
        "    # Optimizer = adam(lr=0.1, decay=1e-6)\n",
        "    # Optimizer = tf.keras.optimizers.Adagrad(learning_rate=0.1)\n",
        "    model = get_model()\n",
        "    model.compile(optimizer='adam',\n",
        "              loss='sparse_categorical_crossentropy',\n",
        "              metrics=['accuracy'])\n",
        "\n",
        "else:\n",
        "  model.compile(optimizer='adam',\n",
        "              loss='sparse_categorical_crossentropy',\n",
        "              metrics=['accuracy'])\n",
        "\n",
        "model.summary()"
      ],
      "execution_count": 8,
      "outputs": [
        {
          "output_type": "stream",
          "text": [
            "True use_tpu\n",
            "INFO:tensorflow:Initializing the TPU system: 10.4.4.50:8470\n",
            "INFO:tensorflow:Finished initializing TPU system.\n",
            "INFO:tensorflow:Querying Tensorflow master (grpc://10.4.4.50:8470) for TPU system metadata.\n",
            "INFO:tensorflow:Found TPU system:\n",
            "INFO:tensorflow:*** Num TPU Cores: 8\n",
            "INFO:tensorflow:*** Num TPU Workers: 1\n",
            "INFO:tensorflow:*** Num TPU Cores Per Worker: 8\n",
            "INFO:tensorflow:*** Available Device: _DeviceAttributes(/job:worker/replica:0/task:0/device:CPU:0, CPU, -1, 10108884200121527512)\n",
            "INFO:tensorflow:*** Available Device: _DeviceAttributes(/job:worker/replica:0/task:0/device:TPU:0, TPU, 17179869184, 16343872280264326185)\n",
            "INFO:tensorflow:*** Available Device: _DeviceAttributes(/job:worker/replica:0/task:0/device:TPU:1, TPU, 17179869184, 2107112127981485401)\n",
            "INFO:tensorflow:*** Available Device: _DeviceAttributes(/job:worker/replica:0/task:0/device:TPU:2, TPU, 17179869184, 12067297842011964948)\n",
            "INFO:tensorflow:*** Available Device: _DeviceAttributes(/job:worker/replica:0/task:0/device:TPU:3, TPU, 17179869184, 15279940479580641151)\n",
            "INFO:tensorflow:*** Available Device: _DeviceAttributes(/job:worker/replica:0/task:0/device:TPU:4, TPU, 17179869184, 782054017791311503)\n",
            "INFO:tensorflow:*** Available Device: _DeviceAttributes(/job:worker/replica:0/task:0/device:TPU:5, TPU, 17179869184, 13503404438540034993)\n",
            "INFO:tensorflow:*** Available Device: _DeviceAttributes(/job:worker/replica:0/task:0/device:TPU:6, TPU, 17179869184, 3646139734358543796)\n",
            "INFO:tensorflow:*** Available Device: _DeviceAttributes(/job:worker/replica:0/task:0/device:TPU:7, TPU, 17179869184, 5436779765470884596)\n",
            "INFO:tensorflow:*** Available Device: _DeviceAttributes(/job:worker/replica:0/task:0/device:TPU_SYSTEM:0, TPU_SYSTEM, 8589934592, 6881473530803333440)\n",
            "INFO:tensorflow:*** Available Device: _DeviceAttributes(/job:worker/replica:0/task:0/device:XLA_CPU:0, XLA_CPU, 17179869184, 15791256878979751566)\n",
            "Model: \"sequential_1\"\n",
            "_________________________________________________________________\n",
            "Layer (type)                 Output Shape              Param #   \n",
            "=================================================================\n",
            "flatten_1 (Flatten)          (None, 784)               0         \n",
            "_________________________________________________________________\n",
            "dense_2 (Dense)              (None, 128)               100480    \n",
            "_________________________________________________________________\n",
            "dense_3 (Dense)              (None, 10)                1290      \n",
            "=================================================================\n",
            "Total params: 101,770\n",
            "Trainable params: 101,770\n",
            "Non-trainable params: 0\n",
            "_________________________________________________________________\n"
          ],
          "name": "stdout"
        }
      ]
    },
    {
      "cell_type": "markdown",
      "metadata": {
        "id": "sKbBPao4yvlr",
        "colab_type": "text"
      },
      "source": [
        "## Treine o modelo\n"
      ]
    },
    {
      "cell_type": "markdown",
      "metadata": {
        "id": "ig8WMKVwyyxW",
        "colab_type": "text"
      },
      "source": [
        "Treinar a rede neural requer os seguintes passos:\n",
        "\n",
        "1. Alimente com os dados de treinamento, o modelo. Neste exemplo, os dados de treinamento são os arrays train_images e train_labels.\n",
        "2. O modelo aprende como associar as imagens as labels.\n",
        "3. Perguntamos ao modelo para fazer previsões sobre o conjunto de teste — nesse exemplo, o array test_images. Verificamos se as previsões combinaram com as labels do array test_labels.\n",
        "\n",
        "Para começar a treinar, chame o método model.fit— assim chamado, porque ele \"encaixa\" o modelo no conjunto de treinamento:"
      ]
    },
    {
      "cell_type": "code",
      "metadata": {
        "id": "RLQ0hpygwu7k",
        "colab_type": "code",
        "outputId": "dbbcb2d5-0696-4790-f91e-21a0987aeac8",
        "colab": {
          "base_uri": "https://localhost:8080/",
          "height": 1000
        }
      },
      "source": [
        "if use_tpu:\n",
        "  print('Train...')\n",
        "  model.fit(\n",
        "      # np.asarray(train_images).astype('float32').reshape((-1,1)),\n",
        "    # train_images, \n",
        "    # np.asarray(train_labels).astype('float32').reshape((-1,1)),\n",
        "    # train_labels,\n",
        "    x=train_input_fn(x_train=train_images, y_train=train_labels, batch_size=batch_size, divider=255.0), \n",
        "    epochs=epochs,\n",
        "    steps_per_epoch=int(784 / batch_size),\n",
        "  )\n",
        "else:\n",
        "  model.fit(train_images, train_labels, epochs=10)"
      ],
      "execution_count": 9,
      "outputs": [
        {
          "output_type": "stream",
          "text": [
            "Train...\n",
            "Epoch 1/100\n",
            "24/24 [==============================] - 1s 33ms/step - loss: 1.4107 - acc: 0.5234\n",
            "Epoch 2/100\n",
            "24/24 [==============================] - 0s 13ms/step - loss: 0.8434 - acc: 0.7188\n",
            "Epoch 3/100\n",
            "24/24 [==============================] - 0s 12ms/step - loss: 0.7755 - acc: 0.7331\n",
            "Epoch 4/100\n",
            "24/24 [==============================] - 0s 12ms/step - loss: 0.7006 - acc: 0.7669\n",
            "Epoch 5/100\n",
            "24/24 [==============================] - 0s 12ms/step - loss: 0.6497 - acc: 0.7773\n",
            "Epoch 6/100\n",
            "24/24 [==============================] - 0s 13ms/step - loss: 0.6046 - acc: 0.7865\n",
            "Epoch 7/100\n",
            "24/24 [==============================] - 0s 13ms/step - loss: 0.6080 - acc: 0.7839\n",
            "Epoch 8/100\n",
            "24/24 [==============================] - 0s 13ms/step - loss: 0.5885 - acc: 0.7878\n",
            "Epoch 9/100\n",
            "24/24 [==============================] - 0s 13ms/step - loss: 0.5811 - acc: 0.7891\n",
            "Epoch 10/100\n",
            "24/24 [==============================] - 0s 13ms/step - loss: 0.5725 - acc: 0.7969\n",
            "Epoch 11/100\n",
            "24/24 [==============================] - 0s 12ms/step - loss: 0.5679 - acc: 0.8112\n",
            "Epoch 12/100\n",
            "24/24 [==============================] - 0s 13ms/step - loss: 0.5206 - acc: 0.8060\n",
            "Epoch 13/100\n",
            "24/24 [==============================] - 0s 13ms/step - loss: 0.5154 - acc: 0.8320\n",
            "Epoch 14/100\n",
            "24/24 [==============================] - 0s 12ms/step - loss: 0.4809 - acc: 0.8242\n",
            "Epoch 15/100\n",
            "24/24 [==============================] - 0s 13ms/step - loss: 0.5466 - acc: 0.8177\n",
            "Epoch 16/100\n",
            "24/24 [==============================] - 0s 15ms/step - loss: 0.5087 - acc: 0.8177\n",
            "Epoch 17/100\n",
            "24/24 [==============================] - 0s 13ms/step - loss: 0.5469 - acc: 0.7943\n",
            "Epoch 18/100\n",
            "24/24 [==============================] - 0s 14ms/step - loss: 0.5808 - acc: 0.7865\n",
            "Epoch 19/100\n",
            "24/24 [==============================] - 0s 13ms/step - loss: 0.4572 - acc: 0.8333\n",
            "Epoch 20/100\n",
            "24/24 [==============================] - 0s 13ms/step - loss: 0.5294 - acc: 0.8034\n",
            "Epoch 21/100\n",
            "24/24 [==============================] - 0s 13ms/step - loss: 0.4897 - acc: 0.8294\n",
            "Epoch 22/100\n",
            "24/24 [==============================] - 0s 13ms/step - loss: 0.5292 - acc: 0.8138\n",
            "Epoch 23/100\n",
            "24/24 [==============================] - 0s 13ms/step - loss: 0.5975 - acc: 0.7891\n",
            "Epoch 24/100\n",
            "24/24 [==============================] - 0s 13ms/step - loss: 0.4998 - acc: 0.8112\n",
            "Epoch 25/100\n",
            "24/24 [==============================] - 0s 13ms/step - loss: 0.5266 - acc: 0.8047\n",
            "Epoch 26/100\n",
            "24/24 [==============================] - 0s 13ms/step - loss: 0.4590 - acc: 0.8333\n",
            "Epoch 27/100\n",
            "24/24 [==============================] - 0s 13ms/step - loss: 0.5284 - acc: 0.8190\n",
            "Epoch 28/100\n",
            "24/24 [==============================] - 0s 14ms/step - loss: 0.4370 - acc: 0.8411\n",
            "Epoch 29/100\n",
            "24/24 [==============================] - 0s 13ms/step - loss: 0.5430 - acc: 0.8099\n",
            "Epoch 30/100\n",
            "24/24 [==============================] - 0s 13ms/step - loss: 0.4394 - acc: 0.8424\n",
            "Epoch 31/100\n",
            "24/24 [==============================] - 0s 14ms/step - loss: 0.4733 - acc: 0.8411\n",
            "Epoch 32/100\n",
            "24/24 [==============================] - 0s 13ms/step - loss: 0.4728 - acc: 0.8268\n",
            "Epoch 33/100\n",
            "24/24 [==============================] - 0s 14ms/step - loss: 0.4470 - acc: 0.8411\n",
            "Epoch 34/100\n",
            "24/24 [==============================] - 0s 13ms/step - loss: 0.4308 - acc: 0.8359\n",
            "Epoch 35/100\n",
            "24/24 [==============================] - 0s 13ms/step - loss: 0.4584 - acc: 0.8542\n",
            "Epoch 36/100\n",
            "24/24 [==============================] - 0s 13ms/step - loss: 0.4748 - acc: 0.8281\n",
            "Epoch 37/100\n",
            "24/24 [==============================] - 0s 14ms/step - loss: 0.4192 - acc: 0.8477\n",
            "Epoch 38/100\n",
            "24/24 [==============================] - 0s 13ms/step - loss: 0.5738 - acc: 0.8021\n",
            "Epoch 39/100\n",
            "24/24 [==============================] - 0s 13ms/step - loss: 0.4292 - acc: 0.8516\n",
            "Epoch 40/100\n",
            "24/24 [==============================] - 0s 14ms/step - loss: 0.4479 - acc: 0.8424\n",
            "Epoch 41/100\n",
            "24/24 [==============================] - 0s 13ms/step - loss: 0.4351 - acc: 0.8490\n",
            "Epoch 42/100\n",
            "24/24 [==============================] - 0s 13ms/step - loss: 0.4209 - acc: 0.8477\n",
            "Epoch 43/100\n",
            "24/24 [==============================] - 0s 13ms/step - loss: 0.4240 - acc: 0.8529\n",
            "Epoch 44/100\n",
            "24/24 [==============================] - 0s 14ms/step - loss: 0.4574 - acc: 0.8346\n",
            "Epoch 45/100\n",
            "24/24 [==============================] - 0s 13ms/step - loss: 0.4060 - acc: 0.8581\n",
            "Epoch 46/100\n",
            "24/24 [==============================] - 0s 13ms/step - loss: 0.4753 - acc: 0.8372\n",
            "Epoch 47/100\n",
            "24/24 [==============================] - 0s 14ms/step - loss: 0.4748 - acc: 0.8294\n",
            "Epoch 48/100\n",
            "24/24 [==============================] - 0s 13ms/step - loss: 0.4448 - acc: 0.8477\n",
            "Epoch 49/100\n",
            "24/24 [==============================] - 0s 14ms/step - loss: 0.4434 - acc: 0.8477\n",
            "Epoch 50/100\n",
            "24/24 [==============================] - 0s 14ms/step - loss: 0.4728 - acc: 0.8568\n",
            "Epoch 51/100\n",
            "24/24 [==============================] - 0s 14ms/step - loss: 0.4500 - acc: 0.8424\n",
            "Epoch 52/100\n",
            "24/24 [==============================] - 0s 14ms/step - loss: 0.3986 - acc: 0.8724\n",
            "Epoch 53/100\n",
            "24/24 [==============================] - 0s 14ms/step - loss: 0.4275 - acc: 0.8529\n",
            "Epoch 54/100\n",
            "24/24 [==============================] - 0s 14ms/step - loss: 0.4264 - acc: 0.8346\n",
            "Epoch 55/100\n",
            "24/24 [==============================] - 0s 14ms/step - loss: 0.4188 - acc: 0.8359\n",
            "Epoch 56/100\n",
            "24/24 [==============================] - 0s 13ms/step - loss: 0.4437 - acc: 0.8359\n",
            "Epoch 57/100\n",
            "24/24 [==============================] - 0s 14ms/step - loss: 0.4146 - acc: 0.8529\n",
            "Epoch 58/100\n",
            "24/24 [==============================] - 0s 14ms/step - loss: 0.4707 - acc: 0.8320\n",
            "Epoch 59/100\n",
            "24/24 [==============================] - 0s 14ms/step - loss: 0.4540 - acc: 0.8424\n",
            "Epoch 60/100\n",
            "24/24 [==============================] - 0s 14ms/step - loss: 0.3977 - acc: 0.8438\n",
            "Epoch 61/100\n",
            "24/24 [==============================] - 0s 13ms/step - loss: 0.4494 - acc: 0.8320\n",
            "Epoch 62/100\n",
            "24/24 [==============================] - 0s 13ms/step - loss: 0.4335 - acc: 0.8372\n",
            "Epoch 63/100\n",
            "24/24 [==============================] - 0s 13ms/step - loss: 0.3847 - acc: 0.8646\n",
            "Epoch 64/100\n",
            "24/24 [==============================] - 0s 14ms/step - loss: 0.3834 - acc: 0.8633\n",
            "Epoch 65/100\n",
            "24/24 [==============================] - 0s 13ms/step - loss: 0.3757 - acc: 0.8737\n",
            "Epoch 66/100\n",
            "24/24 [==============================] - 0s 14ms/step - loss: 0.4555 - acc: 0.8346\n",
            "Epoch 67/100\n",
            "24/24 [==============================] - 0s 14ms/step - loss: 0.4971 - acc: 0.8216\n",
            "Epoch 68/100\n",
            "24/24 [==============================] - 0s 14ms/step - loss: 0.4710 - acc: 0.8451\n",
            "Epoch 69/100\n",
            "24/24 [==============================] - 0s 13ms/step - loss: 0.4205 - acc: 0.8398\n",
            "Epoch 70/100\n",
            "24/24 [==============================] - 0s 13ms/step - loss: 0.4307 - acc: 0.8529\n",
            "Epoch 71/100\n",
            "24/24 [==============================] - 0s 14ms/step - loss: 0.4900 - acc: 0.8281\n",
            "Epoch 72/100\n",
            "24/24 [==============================] - 0s 14ms/step - loss: 0.4058 - acc: 0.8411\n",
            "Epoch 73/100\n",
            "24/24 [==============================] - 0s 14ms/step - loss: 0.4460 - acc: 0.8281\n",
            "Epoch 74/100\n",
            "24/24 [==============================] - 0s 13ms/step - loss: 0.4089 - acc: 0.8503\n",
            "Epoch 75/100\n",
            "24/24 [==============================] - 0s 13ms/step - loss: 0.3921 - acc: 0.8555\n",
            "Epoch 76/100\n",
            "24/24 [==============================] - 0s 13ms/step - loss: 0.4349 - acc: 0.8385\n",
            "Epoch 77/100\n",
            "24/24 [==============================] - 0s 13ms/step - loss: 0.4507 - acc: 0.8359\n",
            "Epoch 78/100\n",
            "24/24 [==============================] - 0s 14ms/step - loss: 0.3865 - acc: 0.8633\n",
            "Epoch 79/100\n",
            "24/24 [==============================] - 0s 14ms/step - loss: 0.3777 - acc: 0.8646\n",
            "Epoch 80/100\n",
            "24/24 [==============================] - 0s 14ms/step - loss: 0.4065 - acc: 0.8633\n",
            "Epoch 81/100\n",
            "24/24 [==============================] - 0s 13ms/step - loss: 0.3944 - acc: 0.8633\n",
            "Epoch 82/100\n",
            "24/24 [==============================] - 0s 13ms/step - loss: 0.3775 - acc: 0.8555\n",
            "Epoch 83/100\n",
            "24/24 [==============================] - 0s 13ms/step - loss: 0.3541 - acc: 0.8555\n",
            "Epoch 84/100\n",
            "24/24 [==============================] - 0s 13ms/step - loss: 0.3870 - acc: 0.8607\n",
            "Epoch 85/100\n",
            "24/24 [==============================] - 0s 13ms/step - loss: 0.4160 - acc: 0.8594\n",
            "Epoch 86/100\n",
            "24/24 [==============================] - 0s 13ms/step - loss: 0.3787 - acc: 0.8633\n",
            "Epoch 87/100\n",
            "24/24 [==============================] - 0s 13ms/step - loss: 0.3918 - acc: 0.8568\n",
            "Epoch 88/100\n",
            "24/24 [==============================] - 0s 13ms/step - loss: 0.3709 - acc: 0.8698\n",
            "Epoch 89/100\n",
            "24/24 [==============================] - 0s 14ms/step - loss: 0.4379 - acc: 0.8333\n",
            "Epoch 90/100\n",
            "24/24 [==============================] - 0s 15ms/step - loss: 0.3877 - acc: 0.8711\n",
            "Epoch 91/100\n",
            "24/24 [==============================] - 0s 14ms/step - loss: 0.3895 - acc: 0.8620\n",
            "Epoch 92/100\n",
            "24/24 [==============================] - 0s 15ms/step - loss: 0.3181 - acc: 0.8945\n",
            "Epoch 93/100\n",
            "24/24 [==============================] - 0s 14ms/step - loss: 0.3953 - acc: 0.8633\n",
            "Epoch 94/100\n",
            "24/24 [==============================] - 0s 13ms/step - loss: 0.3953 - acc: 0.8451\n",
            "Epoch 95/100\n",
            "24/24 [==============================] - 0s 14ms/step - loss: 0.4494 - acc: 0.8333\n",
            "Epoch 96/100\n",
            "24/24 [==============================] - 0s 14ms/step - loss: 0.3982 - acc: 0.8438\n",
            "Epoch 97/100\n",
            "24/24 [==============================] - 0s 14ms/step - loss: 0.3726 - acc: 0.8620\n",
            "Epoch 98/100\n",
            "24/24 [==============================] - 0s 14ms/step - loss: 0.3603 - acc: 0.8633\n",
            "Epoch 99/100\n",
            "24/24 [==============================] - 0s 14ms/step - loss: 0.3848 - acc: 0.8646\n",
            "Epoch 100/100\n",
            "24/24 [==============================] - 0s 13ms/step - loss: 0.4289 - acc: 0.8516\n"
          ],
          "name": "stdout"
        }
      ]
    },
    {
      "cell_type": "markdown",
      "metadata": {
        "id": "o_bq-QRH0YnL",
        "colab_type": "text"
      },
      "source": [
        "À medida que o modelo treina, as métricas loss e acurácia são mostradas. O modelo atinge uma acurácia de 0.88 (ou 88%) com o conjunto de treinamento.\n",
        "\n"
      ]
    },
    {
      "cell_type": "markdown",
      "metadata": {
        "id": "DBpYGMeP0b3h",
        "colab_type": "text"
      },
      "source": [
        "## Avalie a acurácia"
      ]
    },
    {
      "cell_type": "markdown",
      "metadata": {
        "id": "AiXeeIRq0d9D",
        "colab_type": "text"
      },
      "source": [
        "Depois, compare como o modelo performou com o conjunto de teste:\n",
        "\n"
      ]
    },
    {
      "cell_type": "code",
      "metadata": {
        "id": "FwNfekbywwkd",
        "colab_type": "code",
        "outputId": "30f5330b-9243-4dcd-cb11-8f5c68b9a836",
        "colab": {
          "base_uri": "https://localhost:8080/",
          "height": 68
        }
      },
      "source": [
        "test_loss, test_acc = model.evaluate(train_input_fn(x_train=test_images, y_train=test_labels, batch_size=batch_size, divider=255.0), verbose=2, steps=int(784 / batch_size))\n",
        "\n",
        "print('\\nTest accuracy:', test_acc)"
      ],
      "execution_count": 11,
      "outputs": [
        {
          "output_type": "stream",
          "text": [
            "\r24/24 [==============================] - 1s 59ms/step\n",
            "\n",
            "Test accuracy: 0.8580729\n"
          ],
          "name": "stdout"
        }
      ]
    },
    {
      "cell_type": "markdown",
      "metadata": {
        "id": "amJXlARx0gVJ",
        "colab_type": "text"
      },
      "source": [
        "Acabou que o a acurácia com o conjunto de teste é um pouco menor do que a acurácia de treinamento. Essa diferença entre as duas acurácias representa um overfitting. Overfitting é modelo de aprendizado de máquina performou de maneira pior em um conjunto de entradas novas, e não usadas anteriormente, que usando o conjunto de treinamento.\n",
        "\n"
      ]
    },
    {
      "cell_type": "markdown",
      "metadata": {
        "id": "iQCqJKRL0iCB",
        "colab_type": "text"
      },
      "source": [
        "## Faça predições"
      ]
    },
    {
      "cell_type": "markdown",
      "metadata": {
        "id": "Czwltqyq0llT",
        "colab_type": "text"
      },
      "source": [
        "Com o modelo treinado, o usaremos para predições de algumas imagens.\n",
        "\n"
      ]
    },
    {
      "cell_type": "code",
      "metadata": {
        "id": "kAP3WysKw1eT",
        "colab_type": "code",
        "colab": {
          "base_uri": "https://localhost:8080/",
          "height": 496
        },
        "outputId": "bc9d5dee-f5f6-42a2-ebc8-762d8a9a9679"
      },
      "source": [
        "predictions = model.predict(test_images)"
      ],
      "execution_count": 12,
      "outputs": [
        {
          "output_type": "stream",
          "text": [
            "WARNING:tensorflow:From /usr/local/lib/python3.6/dist-packages/tensorflow_core/python/keras/engine/training_distributed.py:459: unbatch (from tensorflow.python.data.experimental.ops.batching) is deprecated and will be removed in a future version.\n",
            "Instructions for updating:\n",
            "Use `tf.data.Dataset.unbatch()`.\n"
          ],
          "name": "stdout"
        },
        {
          "output_type": "error",
          "ename": "InvalidArgumentError",
          "evalue": "ignored",
          "traceback": [
            "\u001b[0;31m---------------------------------------------------------------------------\u001b[0m",
            "\u001b[0;31mInvalidArgumentError\u001b[0m                      Traceback (most recent call last)",
            "\u001b[0;32m/usr/local/lib/python3.6/dist-packages/tensorflow_core/python/client/session.py\u001b[0m in \u001b[0;36m_do_call\u001b[0;34m(self, fn, *args)\u001b[0m\n\u001b[1;32m   1364\u001b[0m     \u001b[0;32mtry\u001b[0m\u001b[0;34m:\u001b[0m\u001b[0;34m\u001b[0m\u001b[0;34m\u001b[0m\u001b[0m\n\u001b[0;32m-> 1365\u001b[0;31m       \u001b[0;32mreturn\u001b[0m \u001b[0mfn\u001b[0m\u001b[0;34m(\u001b[0m\u001b[0;34m*\u001b[0m\u001b[0margs\u001b[0m\u001b[0;34m)\u001b[0m\u001b[0;34m\u001b[0m\u001b[0;34m\u001b[0m\u001b[0m\n\u001b[0m\u001b[1;32m   1366\u001b[0m     \u001b[0;32mexcept\u001b[0m \u001b[0merrors\u001b[0m\u001b[0;34m.\u001b[0m\u001b[0mOpError\u001b[0m \u001b[0;32mas\u001b[0m \u001b[0me\u001b[0m\u001b[0;34m:\u001b[0m\u001b[0;34m\u001b[0m\u001b[0;34m\u001b[0m\u001b[0m\n",
            "\u001b[0;32m/usr/local/lib/python3.6/dist-packages/tensorflow_core/python/client/session.py\u001b[0m in \u001b[0;36m_run_fn\u001b[0;34m(feed_dict, fetch_list, target_list, options, run_metadata)\u001b[0m\n\u001b[1;32m   1347\u001b[0m       \u001b[0;31m# Ensure any changes to the graph are reflected in the runtime.\u001b[0m\u001b[0;34m\u001b[0m\u001b[0;34m\u001b[0m\u001b[0;34m\u001b[0m\u001b[0m\n\u001b[0;32m-> 1348\u001b[0;31m       \u001b[0mself\u001b[0m\u001b[0;34m.\u001b[0m\u001b[0m_extend_graph\u001b[0m\u001b[0;34m(\u001b[0m\u001b[0;34m)\u001b[0m\u001b[0;34m\u001b[0m\u001b[0;34m\u001b[0m\u001b[0m\n\u001b[0m\u001b[1;32m   1349\u001b[0m       return self._call_tf_sessionrun(options, feed_dict, fetch_list,\n",
            "\u001b[0;32m/usr/local/lib/python3.6/dist-packages/tensorflow_core/python/client/session.py\u001b[0m in \u001b[0;36m_extend_graph\u001b[0;34m(self)\u001b[0m\n\u001b[1;32m   1387\u001b[0m     \u001b[0;32mwith\u001b[0m \u001b[0mself\u001b[0m\u001b[0;34m.\u001b[0m\u001b[0m_graph\u001b[0m\u001b[0;34m.\u001b[0m\u001b[0m_session_run_lock\u001b[0m\u001b[0;34m(\u001b[0m\u001b[0;34m)\u001b[0m\u001b[0;34m:\u001b[0m  \u001b[0;31m# pylint: disable=protected-access\u001b[0m\u001b[0;34m\u001b[0m\u001b[0;34m\u001b[0m\u001b[0m\n\u001b[0;32m-> 1388\u001b[0;31m       \u001b[0mtf_session\u001b[0m\u001b[0;34m.\u001b[0m\u001b[0mExtendSession\u001b[0m\u001b[0;34m(\u001b[0m\u001b[0mself\u001b[0m\u001b[0;34m.\u001b[0m\u001b[0m_session\u001b[0m\u001b[0;34m)\u001b[0m\u001b[0;34m\u001b[0m\u001b[0;34m\u001b[0m\u001b[0m\n\u001b[0m\u001b[1;32m   1389\u001b[0m \u001b[0;34m\u001b[0m\u001b[0m\n",
            "\u001b[0;31mInvalidArgumentError\u001b[0m: Unsupported data type for TPU: uint8, caused by output IteratorGetNext_16:0",
            "\nDuring handling of the above exception, another exception occurred:\n",
            "\u001b[0;31mInvalidArgumentError\u001b[0m                      Traceback (most recent call last)",
            "\u001b[0;32m<ipython-input-12-b9903f35901d>\u001b[0m in \u001b[0;36m<module>\u001b[0;34m()\u001b[0m\n\u001b[0;32m----> 1\u001b[0;31m \u001b[0mpredictions\u001b[0m \u001b[0;34m=\u001b[0m \u001b[0mmodel\u001b[0m\u001b[0;34m.\u001b[0m\u001b[0mpredict\u001b[0m\u001b[0;34m(\u001b[0m\u001b[0mtest_images\u001b[0m\u001b[0;34m)\u001b[0m\u001b[0;34m\u001b[0m\u001b[0;34m\u001b[0m\u001b[0m\n\u001b[0m",
            "\u001b[0;32m/usr/local/lib/python3.6/dist-packages/tensorflow_core/python/keras/engine/training.py\u001b[0m in \u001b[0;36mpredict\u001b[0;34m(self, x, batch_size, verbose, steps, callbacks, max_queue_size, workers, use_multiprocessing)\u001b[0m\n\u001b[1;32m    906\u001b[0m         \u001b[0mmax_queue_size\u001b[0m\u001b[0;34m=\u001b[0m\u001b[0mmax_queue_size\u001b[0m\u001b[0;34m,\u001b[0m\u001b[0;34m\u001b[0m\u001b[0;34m\u001b[0m\u001b[0m\n\u001b[1;32m    907\u001b[0m         \u001b[0mworkers\u001b[0m\u001b[0;34m=\u001b[0m\u001b[0mworkers\u001b[0m\u001b[0;34m,\u001b[0m\u001b[0;34m\u001b[0m\u001b[0;34m\u001b[0m\u001b[0m\n\u001b[0;32m--> 908\u001b[0;31m         use_multiprocessing=use_multiprocessing)\n\u001b[0m\u001b[1;32m    909\u001b[0m \u001b[0;34m\u001b[0m\u001b[0m\n\u001b[1;32m    910\u001b[0m   \u001b[0;32mdef\u001b[0m \u001b[0mreset_metrics\u001b[0m\u001b[0;34m(\u001b[0m\u001b[0mself\u001b[0m\u001b[0;34m)\u001b[0m\u001b[0;34m:\u001b[0m\u001b[0;34m\u001b[0m\u001b[0;34m\u001b[0m\u001b[0m\n",
            "\u001b[0;32m/usr/local/lib/python3.6/dist-packages/tensorflow_core/python/keras/engine/training_distributed.py\u001b[0m in \u001b[0;36mpredict\u001b[0;34m(self, model, x, batch_size, verbose, steps, callbacks, **kwargs)\u001b[0m\n\u001b[1;32m    751\u001b[0m       \u001b[0;32mif\u001b[0m \u001b[0;32mnot\u001b[0m \u001b[0mcontext\u001b[0m\u001b[0;34m.\u001b[0m\u001b[0mexecuting_eagerly\u001b[0m\u001b[0;34m(\u001b[0m\u001b[0;34m)\u001b[0m\u001b[0;34m:\u001b[0m\u001b[0;34m\u001b[0m\u001b[0;34m\u001b[0m\u001b[0m\n\u001b[1;32m    752\u001b[0m         return experimental_tpu_predict_loop(\n\u001b[0;32m--> 753\u001b[0;31m             model, dataset, verbose=verbose, steps=steps, callbacks=callbacks)\n\u001b[0m\u001b[1;32m    754\u001b[0m     return training_arrays.predict_loop(\n\u001b[1;32m    755\u001b[0m         \u001b[0mmodel\u001b[0m\u001b[0;34m,\u001b[0m\u001b[0;34m\u001b[0m\u001b[0;34m\u001b[0m\u001b[0m\n",
            "\u001b[0;32m/usr/local/lib/python3.6/dist-packages/tensorflow_core/python/keras/engine/training_distributed.py\u001b[0m in \u001b[0;36mexperimental_tpu_predict_loop\u001b[0;34m(model, dataset, verbose, steps, callbacks)\u001b[0m\n\u001b[1;32m    500\u001b[0m     \u001b[0mdist_utils\u001b[0m\u001b[0;34m.\u001b[0m\u001b[0m_copy_weights_to_distributed_model\u001b[0m\u001b[0;34m(\u001b[0m\u001b[0mmodel\u001b[0m\u001b[0;34m,\u001b[0m \u001b[0mmode\u001b[0m\u001b[0;34m)\u001b[0m\u001b[0;34m\u001b[0m\u001b[0;34m\u001b[0m\u001b[0m\n\u001b[1;32m    501\u001b[0m \u001b[0;34m\u001b[0m\u001b[0m\n\u001b[0;32m--> 502\u001b[0;31m   \u001b[0mdist_utils\u001b[0m\u001b[0;34m.\u001b[0m\u001b[0m_reset_metrics\u001b[0m\u001b[0;34m(\u001b[0m\u001b[0mmodel\u001b[0m\u001b[0;34m)\u001b[0m\u001b[0;34m\u001b[0m\u001b[0;34m\u001b[0m\u001b[0m\n\u001b[0m\u001b[1;32m    503\u001b[0m \u001b[0;34m\u001b[0m\u001b[0m\n\u001b[1;32m    504\u001b[0m   callbacks = cbks.configure_callbacks(\n",
            "\u001b[0;32m/usr/local/lib/python3.6/dist-packages/tensorflow_core/python/keras/distribute/distributed_training_utils.py\u001b[0m in \u001b[0;36m_reset_metrics\u001b[0;34m(model)\u001b[0m\n\u001b[1;32m   1071\u001b[0m       \u001b[0;32mif\u001b[0m \u001b[0mdistributed_model\u001b[0m\u001b[0;34m:\u001b[0m\u001b[0;34m\u001b[0m\u001b[0;34m\u001b[0m\u001b[0m\n\u001b[1;32m   1072\u001b[0m         \u001b[0mfirst_model\u001b[0m \u001b[0;34m=\u001b[0m \u001b[0mmodel\u001b[0m\u001b[0;34m.\u001b[0m\u001b[0m_distribution_strategy\u001b[0m\u001b[0;34m.\u001b[0m\u001b[0munwrap\u001b[0m\u001b[0;34m(\u001b[0m\u001b[0mdistributed_model\u001b[0m\u001b[0;34m)\u001b[0m\u001b[0;34m[\u001b[0m\u001b[0;36m0\u001b[0m\u001b[0;34m]\u001b[0m\u001b[0;34m\u001b[0m\u001b[0;34m\u001b[0m\u001b[0m\n\u001b[0;32m-> 1073\u001b[0;31m         \u001b[0mfirst_model\u001b[0m\u001b[0;34m.\u001b[0m\u001b[0mreset_metrics\u001b[0m\u001b[0;34m(\u001b[0m\u001b[0;34m)\u001b[0m\u001b[0;34m\u001b[0m\u001b[0;34m\u001b[0m\u001b[0m\n\u001b[0m\u001b[1;32m   1074\u001b[0m \u001b[0;34m\u001b[0m\u001b[0m\n\u001b[1;32m   1075\u001b[0m \u001b[0;34m\u001b[0m\u001b[0m\n",
            "\u001b[0;32m/usr/local/lib/python3.6/dist-packages/tensorflow_core/python/keras/engine/training.py\u001b[0m in \u001b[0;36mreset_metrics\u001b[0;34m(self)\u001b[0m\n\u001b[1;32m    912\u001b[0m     \u001b[0mmetrics\u001b[0m \u001b[0;34m=\u001b[0m \u001b[0mself\u001b[0m\u001b[0;34m.\u001b[0m\u001b[0m_get_training_eval_metrics\u001b[0m\u001b[0;34m(\u001b[0m\u001b[0;34m)\u001b[0m\u001b[0;34m\u001b[0m\u001b[0;34m\u001b[0m\u001b[0m\n\u001b[1;32m    913\u001b[0m     \u001b[0;32mfor\u001b[0m \u001b[0mm\u001b[0m \u001b[0;32min\u001b[0m \u001b[0mmetrics\u001b[0m\u001b[0;34m:\u001b[0m\u001b[0;34m\u001b[0m\u001b[0;34m\u001b[0m\u001b[0m\n\u001b[0;32m--> 914\u001b[0;31m       \u001b[0mm\u001b[0m\u001b[0;34m.\u001b[0m\u001b[0mreset_states\u001b[0m\u001b[0;34m(\u001b[0m\u001b[0;34m)\u001b[0m\u001b[0;34m\u001b[0m\u001b[0;34m\u001b[0m\u001b[0m\n\u001b[0m\u001b[1;32m    915\u001b[0m \u001b[0;34m\u001b[0m\u001b[0m\n\u001b[1;32m    916\u001b[0m     \u001b[0;31m# Reset metrics on all the distributed (cloned) models.\u001b[0m\u001b[0;34m\u001b[0m\u001b[0;34m\u001b[0m\u001b[0;34m\u001b[0m\u001b[0m\n",
            "\u001b[0;32m/usr/local/lib/python3.6/dist-packages/tensorflow_core/python/keras/metrics.py\u001b[0m in \u001b[0;36mreset_states\u001b[0;34m(self)\u001b[0m\n\u001b[1;32m    208\u001b[0m     \u001b[0mwhen\u001b[0m \u001b[0ma\u001b[0m \u001b[0mmetric\u001b[0m \u001b[0;32mis\u001b[0m \u001b[0mevaluated\u001b[0m \u001b[0mduring\u001b[0m \u001b[0mtraining\u001b[0m\u001b[0;34m.\u001b[0m\u001b[0;34m\u001b[0m\u001b[0;34m\u001b[0m\u001b[0m\n\u001b[1;32m    209\u001b[0m     \"\"\"\n\u001b[0;32m--> 210\u001b[0;31m     \u001b[0mK\u001b[0m\u001b[0;34m.\u001b[0m\u001b[0mbatch_set_value\u001b[0m\u001b[0;34m(\u001b[0m\u001b[0;34m[\u001b[0m\u001b[0;34m(\u001b[0m\u001b[0mv\u001b[0m\u001b[0;34m,\u001b[0m \u001b[0;36m0\u001b[0m\u001b[0;34m)\u001b[0m \u001b[0;32mfor\u001b[0m \u001b[0mv\u001b[0m \u001b[0;32min\u001b[0m \u001b[0mself\u001b[0m\u001b[0;34m.\u001b[0m\u001b[0mvariables\u001b[0m\u001b[0;34m]\u001b[0m\u001b[0;34m)\u001b[0m\u001b[0;34m\u001b[0m\u001b[0;34m\u001b[0m\u001b[0m\n\u001b[0m\u001b[1;32m    211\u001b[0m \u001b[0;34m\u001b[0m\u001b[0m\n\u001b[1;32m    212\u001b[0m   \u001b[0;34m@\u001b[0m\u001b[0mabc\u001b[0m\u001b[0;34m.\u001b[0m\u001b[0mabstractmethod\u001b[0m\u001b[0;34m\u001b[0m\u001b[0;34m\u001b[0m\u001b[0m\n",
            "\u001b[0;32m/usr/local/lib/python3.6/dist-packages/tensorflow_core/python/keras/backend.py\u001b[0m in \u001b[0;36mbatch_set_value\u001b[0;34m(tuples)\u001b[0m\n\u001b[1;32m   3257\u001b[0m           \u001b[0massign_ops\u001b[0m\u001b[0;34m.\u001b[0m\u001b[0mappend\u001b[0m\u001b[0;34m(\u001b[0m\u001b[0massign_op\u001b[0m\u001b[0;34m)\u001b[0m\u001b[0;34m\u001b[0m\u001b[0;34m\u001b[0m\u001b[0m\n\u001b[1;32m   3258\u001b[0m           \u001b[0mfeed_dict\u001b[0m\u001b[0;34m[\u001b[0m\u001b[0massign_placeholder\u001b[0m\u001b[0;34m]\u001b[0m \u001b[0;34m=\u001b[0m \u001b[0mvalue\u001b[0m\u001b[0;34m\u001b[0m\u001b[0;34m\u001b[0m\u001b[0m\n\u001b[0;32m-> 3259\u001b[0;31m         \u001b[0mget_session\u001b[0m\u001b[0;34m(\u001b[0m\u001b[0;34m)\u001b[0m\u001b[0;34m.\u001b[0m\u001b[0mrun\u001b[0m\u001b[0;34m(\u001b[0m\u001b[0massign_ops\u001b[0m\u001b[0;34m,\u001b[0m \u001b[0mfeed_dict\u001b[0m\u001b[0;34m=\u001b[0m\u001b[0mfeed_dict\u001b[0m\u001b[0;34m)\u001b[0m\u001b[0;34m\u001b[0m\u001b[0;34m\u001b[0m\u001b[0m\n\u001b[0m\u001b[1;32m   3260\u001b[0m \u001b[0;34m\u001b[0m\u001b[0m\n\u001b[1;32m   3261\u001b[0m \u001b[0;34m\u001b[0m\u001b[0m\n",
            "\u001b[0;32m/usr/local/lib/python3.6/dist-packages/tensorflow_core/python/client/session.py\u001b[0m in \u001b[0;36mrun\u001b[0;34m(self, fetches, feed_dict, options, run_metadata)\u001b[0m\n\u001b[1;32m    954\u001b[0m     \u001b[0;32mtry\u001b[0m\u001b[0;34m:\u001b[0m\u001b[0;34m\u001b[0m\u001b[0;34m\u001b[0m\u001b[0m\n\u001b[1;32m    955\u001b[0m       result = self._run(None, fetches, feed_dict, options_ptr,\n\u001b[0;32m--> 956\u001b[0;31m                          run_metadata_ptr)\n\u001b[0m\u001b[1;32m    957\u001b[0m       \u001b[0;32mif\u001b[0m \u001b[0mrun_metadata\u001b[0m\u001b[0;34m:\u001b[0m\u001b[0;34m\u001b[0m\u001b[0;34m\u001b[0m\u001b[0m\n\u001b[1;32m    958\u001b[0m         \u001b[0mproto_data\u001b[0m \u001b[0;34m=\u001b[0m \u001b[0mtf_session\u001b[0m\u001b[0;34m.\u001b[0m\u001b[0mTF_GetBuffer\u001b[0m\u001b[0;34m(\u001b[0m\u001b[0mrun_metadata_ptr\u001b[0m\u001b[0;34m)\u001b[0m\u001b[0;34m\u001b[0m\u001b[0;34m\u001b[0m\u001b[0m\n",
            "\u001b[0;32m/usr/local/lib/python3.6/dist-packages/tensorflow_core/python/client/session.py\u001b[0m in \u001b[0;36m_run\u001b[0;34m(self, handle, fetches, feed_dict, options, run_metadata)\u001b[0m\n\u001b[1;32m   1178\u001b[0m     \u001b[0;32mif\u001b[0m \u001b[0mfinal_fetches\u001b[0m \u001b[0;32mor\u001b[0m \u001b[0mfinal_targets\u001b[0m \u001b[0;32mor\u001b[0m \u001b[0;34m(\u001b[0m\u001b[0mhandle\u001b[0m \u001b[0;32mand\u001b[0m \u001b[0mfeed_dict_tensor\u001b[0m\u001b[0;34m)\u001b[0m\u001b[0;34m:\u001b[0m\u001b[0;34m\u001b[0m\u001b[0;34m\u001b[0m\u001b[0m\n\u001b[1;32m   1179\u001b[0m       results = self._do_run(handle, final_targets, final_fetches,\n\u001b[0;32m-> 1180\u001b[0;31m                              feed_dict_tensor, options, run_metadata)\n\u001b[0m\u001b[1;32m   1181\u001b[0m     \u001b[0;32melse\u001b[0m\u001b[0;34m:\u001b[0m\u001b[0;34m\u001b[0m\u001b[0;34m\u001b[0m\u001b[0m\n\u001b[1;32m   1182\u001b[0m       \u001b[0mresults\u001b[0m \u001b[0;34m=\u001b[0m \u001b[0;34m[\u001b[0m\u001b[0;34m]\u001b[0m\u001b[0;34m\u001b[0m\u001b[0;34m\u001b[0m\u001b[0m\n",
            "\u001b[0;32m/usr/local/lib/python3.6/dist-packages/tensorflow_core/python/client/session.py\u001b[0m in \u001b[0;36m_do_run\u001b[0;34m(self, handle, target_list, fetch_list, feed_dict, options, run_metadata)\u001b[0m\n\u001b[1;32m   1357\u001b[0m     \u001b[0;32mif\u001b[0m \u001b[0mhandle\u001b[0m \u001b[0;32mis\u001b[0m \u001b[0;32mNone\u001b[0m\u001b[0;34m:\u001b[0m\u001b[0;34m\u001b[0m\u001b[0;34m\u001b[0m\u001b[0m\n\u001b[1;32m   1358\u001b[0m       return self._do_call(_run_fn, feeds, fetches, targets, options,\n\u001b[0;32m-> 1359\u001b[0;31m                            run_metadata)\n\u001b[0m\u001b[1;32m   1360\u001b[0m     \u001b[0;32melse\u001b[0m\u001b[0;34m:\u001b[0m\u001b[0;34m\u001b[0m\u001b[0;34m\u001b[0m\u001b[0m\n\u001b[1;32m   1361\u001b[0m       \u001b[0;32mreturn\u001b[0m \u001b[0mself\u001b[0m\u001b[0;34m.\u001b[0m\u001b[0m_do_call\u001b[0m\u001b[0;34m(\u001b[0m\u001b[0m_prun_fn\u001b[0m\u001b[0;34m,\u001b[0m \u001b[0mhandle\u001b[0m\u001b[0;34m,\u001b[0m \u001b[0mfeeds\u001b[0m\u001b[0;34m,\u001b[0m \u001b[0mfetches\u001b[0m\u001b[0;34m)\u001b[0m\u001b[0;34m\u001b[0m\u001b[0;34m\u001b[0m\u001b[0m\n",
            "\u001b[0;32m/usr/local/lib/python3.6/dist-packages/tensorflow_core/python/client/session.py\u001b[0m in \u001b[0;36m_do_call\u001b[0;34m(self, fn, *args)\u001b[0m\n\u001b[1;32m   1382\u001b[0m                     \u001b[0;34m'\\nsession_config.graph_options.rewrite_options.'\u001b[0m\u001b[0;34m\u001b[0m\u001b[0;34m\u001b[0m\u001b[0m\n\u001b[1;32m   1383\u001b[0m                     'disable_meta_optimizer = True')\n\u001b[0;32m-> 1384\u001b[0;31m       \u001b[0;32mraise\u001b[0m \u001b[0mtype\u001b[0m\u001b[0;34m(\u001b[0m\u001b[0me\u001b[0m\u001b[0;34m)\u001b[0m\u001b[0;34m(\u001b[0m\u001b[0mnode_def\u001b[0m\u001b[0;34m,\u001b[0m \u001b[0mop\u001b[0m\u001b[0;34m,\u001b[0m \u001b[0mmessage\u001b[0m\u001b[0;34m)\u001b[0m\u001b[0;34m\u001b[0m\u001b[0;34m\u001b[0m\u001b[0m\n\u001b[0m\u001b[1;32m   1385\u001b[0m \u001b[0;34m\u001b[0m\u001b[0m\n\u001b[1;32m   1386\u001b[0m   \u001b[0;32mdef\u001b[0m \u001b[0m_extend_graph\u001b[0m\u001b[0;34m(\u001b[0m\u001b[0mself\u001b[0m\u001b[0;34m)\u001b[0m\u001b[0;34m:\u001b[0m\u001b[0;34m\u001b[0m\u001b[0;34m\u001b[0m\u001b[0m\n",
            "\u001b[0;31mInvalidArgumentError\u001b[0m: Unsupported data type for TPU: uint8, caused by output IteratorGetNext_16:0"
          ]
        }
      ]
    },
    {
      "cell_type": "markdown",
      "metadata": {
        "id": "0-SHkftP0nME",
        "colab_type": "text"
      },
      "source": [
        "Aqui, o modelo previu que a label de cada imagem no conjunto de treinamento. Vamos olhar na primeira predição:\n",
        "\n"
      ]
    },
    {
      "cell_type": "code",
      "metadata": {
        "id": "PqwezuR8xjDQ",
        "colab_type": "code",
        "outputId": "37087d70-cfbe-414d-b0f9-f6a1dcfb019c",
        "colab": {
          "base_uri": "https://localhost:8080/",
          "height": 68
        }
      },
      "source": [
        "predictions[0]"
      ],
      "execution_count": 0,
      "outputs": [
        {
          "output_type": "execute_result",
          "data": {
            "text/plain": [
              "array([3.30561605e-08, 2.80160748e-07, 4.37011627e-09, 1.80413887e-12,\n",
              "       2.72343664e-06, 2.44750991e-03, 5.41261116e-08, 1.04816966e-01,\n",
              "       1.07520123e-07, 8.92732382e-01], dtype=float32)"
            ]
          },
          "metadata": {
            "tags": []
          },
          "execution_count": 17
        }
      ]
    },
    {
      "cell_type": "markdown",
      "metadata": {
        "id": "iY8MZ1yw0pA7",
        "colab_type": "text"
      },
      "source": [
        "A predição é um array de 10 números. Eles representam um a confiança do modelo que a imagem corresponde a cada um dos diferentes artigos de roupa. Podemos ver cada label tem um maior valor de confiança:\n",
        "\n"
      ]
    },
    {
      "cell_type": "code",
      "metadata": {
        "id": "IGe795i7xlD9",
        "colab_type": "code",
        "outputId": "1b56785d-7510-4c5a-a601-cdc0cec9bcf3",
        "colab": {
          "base_uri": "https://localhost:8080/",
          "height": 34
        }
      },
      "source": [
        "np.argmax(predictions[0])"
      ],
      "execution_count": 0,
      "outputs": [
        {
          "output_type": "execute_result",
          "data": {
            "text/plain": [
              "9"
            ]
          },
          "metadata": {
            "tags": []
          },
          "execution_count": 18
        }
      ]
    },
    {
      "cell_type": "markdown",
      "metadata": {
        "id": "riP7I6Nd0q2_",
        "colab_type": "text"
      },
      "source": [
        "Então, o modelo é confiante de que esse imagem é uma bota (ankle boot) ou class_names[9]. Examinando a label do teste, vemos que essa classificação é correta:\n",
        "\n"
      ]
    },
    {
      "cell_type": "code",
      "metadata": {
        "id": "i9Yqp-Pjxl4Q",
        "colab_type": "code",
        "outputId": "25b7630f-edae-4ce9-f24f-cdc251014fbf",
        "colab": {
          "base_uri": "https://localhost:8080/",
          "height": 34
        }
      },
      "source": [
        "test_labels[0]"
      ],
      "execution_count": 0,
      "outputs": [
        {
          "output_type": "execute_result",
          "data": {
            "text/plain": [
              "9"
            ]
          },
          "metadata": {
            "tags": []
          },
          "execution_count": 19
        }
      ]
    },
    {
      "cell_type": "markdown",
      "metadata": {
        "id": "QKIQgQoO0tKm",
        "colab_type": "text"
      },
      "source": [
        "Podemos mostrar graficamente como se parece em um conjunto total de previsão de 10 classes.\n",
        "\n"
      ]
    },
    {
      "cell_type": "code",
      "metadata": {
        "id": "oie0waZwxmyS",
        "colab_type": "code",
        "colab": {}
      },
      "source": [
        "def plot_image(i, predictions_array, true_label, img):\n",
        "  predictions_array, true_label, img = predictions_array[i], true_label[i], img[i]\n",
        "  plt.grid(False)\n",
        "  plt.xticks([])\n",
        "  plt.yticks([])\n",
        "\n",
        "  plt.imshow(img, cmap=plt.cm.binary)\n",
        "\n",
        "  predicted_label = np.argmax(predictions_array)\n",
        "  if predicted_label == true_label:\n",
        "    color = 'blue'\n",
        "  else:\n",
        "    color = 'red'\n",
        "\n",
        "  plt.xlabel(\"{} {:2.0f}% ({})\".format(class_names[predicted_label],\n",
        "                                100*np.max(predictions_array),\n",
        "                                class_names[true_label]),\n",
        "                                color=color)\n",
        "\n",
        "def plot_value_array(i, predictions_array, true_label):\n",
        "  predictions_array, true_label = predictions_array[i], true_label[i]\n",
        "  plt.grid(False)\n",
        "  plt.xticks([])\n",
        "  plt.yticks([])\n",
        "  thisplot = plt.bar(range(10), predictions_array, color=\"#777777\")\n",
        "  plt.ylim([0, 1])\n",
        "  predicted_label = np.argmax(predictions_array)\n",
        "\n",
        "  thisplot[predicted_label].set_color('red')\n",
        "  thisplot[true_label].set_color('blue')"
      ],
      "execution_count": 0,
      "outputs": []
    },
    {
      "cell_type": "markdown",
      "metadata": {
        "id": "1jFisXm50u7A",
        "colab_type": "text"
      },
      "source": [
        "Vamos olhar a previsão imagem na posição 0, do array de predição.\n",
        "\n"
      ]
    },
    {
      "cell_type": "code",
      "metadata": {
        "id": "kYOlMihLxoNJ",
        "colab_type": "code",
        "outputId": "cf9de501-505b-486b-877a-5288ecb1bced",
        "colab": {
          "base_uri": "https://localhost:8080/",
          "height": 203
        }
      },
      "source": [
        "i = 0\n",
        "plt.figure(figsize=(6,3))\n",
        "plt.subplot(1,2,1)\n",
        "plot_image(i, predictions, test_labels, test_images)\n",
        "plt.subplot(1,2,2)\n",
        "plot_value_array(i, predictions,  test_labels)\n",
        "plt.show()"
      ],
      "execution_count": 0,
      "outputs": [
        {
          "output_type": "display_data",
          "data": {
            "image/png": "[encoded data removed]",
            "text/plain": [
              "<Figure size 432x216 with 2 Axes>"
            ]
          },
          "metadata": {
            "tags": []
          }
        }
      ]
    },
    {
      "cell_type": "code",
      "metadata": {
        "id": "c43PJTKlxpVh",
        "colab_type": "code",
        "outputId": "2f67d035-205e-4e40-cc75-5c9ed1578042",
        "colab": {
          "base_uri": "https://localhost:8080/",
          "height": 203
        }
      },
      "source": [
        "i = 12\n",
        "plt.figure(figsize=(6,3))\n",
        "plt.subplot(1,2,1)\n",
        "plot_image(i, predictions, test_labels, test_images)\n",
        "plt.subplot(1,2,2)\n",
        "plot_value_array(i, predictions,  test_labels)\n",
        "plt.show()"
      ],
      "execution_count": 0,
      "outputs": [
        {
          "output_type": "display_data",
          "data": {
            "image/png": "[encoded data removed]",
            "text/plain": [
              "<Figure size 432x216 with 2 Axes>"
            ]
          },
          "metadata": {
            "tags": []
          }
        }
      ]
    },
    {
      "cell_type": "markdown",
      "metadata": {
        "id": "7VhoYreP0yvf",
        "colab_type": "text"
      },
      "source": [
        "Vamos plotar algumas da previsão do modelo. Labels preditas corretamente são azuis e as predições erradas são vermelhas. O número dá a porcentagem (de 100) das labels preditas. Note que o modelo pode errar mesmo estão confiante.\n",
        "\n"
      ]
    },
    {
      "cell_type": "code",
      "metadata": {
        "id": "FzhQULz8xrMn",
        "colab_type": "code",
        "outputId": "b72e689a-0d25-4b46-dfe1-7d8dc319a3b4",
        "colab": {
          "base_uri": "https://localhost:8080/",
          "height": 589
        }
      },
      "source": [
        "# Plota o primeiro X test images, e as labels preditas, e as labels verdadeiras.\n",
        "# Colore as predições corretas de azul e as incorretas de vermelho.\n",
        "num_rows = 5\n",
        "num_cols = 3\n",
        "num_images = num_rows*num_cols\n",
        "plt.figure(figsize=(2*2*num_cols, 2*num_rows))\n",
        "for i in range(num_images):\n",
        "  plt.subplot(num_rows, 2*num_cols, 2*i+1)\n",
        "  plot_image(i, predictions, test_labels, test_images)\n",
        "  plt.subplot(num_rows, 2*num_cols, 2*i+2)\n",
        "  plot_value_array(i, predictions, test_labels)\n",
        "plt.show()"
      ],
      "execution_count": 0,
      "outputs": [
        {
          "output_type": "display_data",
          "data": {
            "image/png": "[encoded data removed]",
            "text/plain": [
              "<Figure size 864x720 with 30 Axes>"
            ]
          },
          "metadata": {
            "tags": []
          }
        }
      ]
    },
    {
      "cell_type": "markdown",
      "metadata": {
        "id": "cD1IHGWb00jB",
        "colab_type": "text"
      },
      "source": [
        "Finamente, use o modelo treinado para fazer a predição de uma única imagem.\n",
        "\n"
      ]
    },
    {
      "cell_type": "code",
      "metadata": {
        "id": "ZyauMfP4xs21",
        "colab_type": "code",
        "outputId": "dfce2e8e-a926-4f72-b2c3-b6c04749d546",
        "colab": {
          "base_uri": "https://localhost:8080/",
          "height": 34
        }
      },
      "source": [
        "# Grab an image from the test dataset.\n",
        "img = test_images[0]\n",
        "\n",
        "print(img.shape)"
      ],
      "execution_count": 0,
      "outputs": [
        {
          "output_type": "stream",
          "text": [
            "(28, 28)\n"
          ],
          "name": "stdout"
        }
      ]
    },
    {
      "cell_type": "markdown",
      "metadata": {
        "id": "kUIQH8nN05IU",
        "colab_type": "text"
      },
      "source": [
        "Modelos tf.keras são otimizados para fazer predições em um batch, ou coleções, de exemplos de uma vez. De acordo, mesmo que usemos uma única imagem, precisamos adicionar em uma lista:\n",
        "\n"
      ]
    },
    {
      "cell_type": "code",
      "metadata": {
        "id": "pExy3Cl002LA",
        "colab_type": "code",
        "outputId": "b1a63cac-008b-4fb5-a8b0-2fd7f3c6fe8d",
        "colab": {
          "base_uri": "https://localhost:8080/",
          "height": 34
        }
      },
      "source": [
        "# Adiciona a imagem em um batch que possui um só membro.\n",
        "img = (np.expand_dims(img,0))\n",
        "\n",
        "print(img.shape)"
      ],
      "execution_count": 0,
      "outputs": [
        {
          "output_type": "stream",
          "text": [
            "(1, 28, 28)\n"
          ],
          "name": "stdout"
        }
      ]
    },
    {
      "cell_type": "markdown",
      "metadata": {
        "id": "vkx5DH4b09Iv",
        "colab_type": "text"
      },
      "source": [
        "Agora prediremos a label correta para essa imagem:\n",
        "\n"
      ]
    },
    {
      "cell_type": "code",
      "metadata": {
        "id": "lYLtk7e307Xa",
        "colab_type": "code",
        "outputId": "8abd4ea2-bd1d-4c30-e504-81e86db925f6",
        "colab": {
          "base_uri": "https://localhost:8080/",
          "height": 68
        }
      },
      "source": [
        "predictions_single = model.predict(img)\n",
        "\n",
        "print(predictions_single)"
      ],
      "execution_count": 0,
      "outputs": [
        {
          "output_type": "stream",
          "text": [
            "[[3.30560930e-08 2.80160975e-07 4.37010739e-09 1.80414212e-12\n",
            "  2.72343868e-06 2.44750828e-03 5.41261045e-08 1.04816996e-01\n",
            "  1.07520314e-07 8.92732263e-01]]\n"
          ],
          "name": "stdout"
        }
      ]
    },
    {
      "cell_type": "code",
      "metadata": {
        "id": "qbu2CIWf0-zH",
        "colab_type": "code",
        "outputId": "b71f27ae-5bae-4b08-ffea-78b1b930ea71",
        "colab": {
          "base_uri": "https://localhost:8080/",
          "height": 300
        }
      },
      "source": [
        "plot_value_array(0, predictions_single, test_labels)\n",
        "_ = plt.xticks(range(10), class_names, rotation=45)"
      ],
      "execution_count": 0,
      "outputs": [
        {
          "output_type": "display_data",
          "data": {
            "image/png": "[encoded data removed]",
            "text/plain": [
              "<Figure size 432x288 with 1 Axes>"
            ]
          },
          "metadata": {
            "tags": []
          }
        }
      ]
    },
    {
      "cell_type": "markdown",
      "metadata": {
        "id": "0kQ5lP5o1Drz",
        "colab_type": "text"
      },
      "source": [
        "model.predict retorna a lista de listas — uma lista para cada imagem em um batch de dados. Pegue a predição de nossa (única) imagem no batch:\n",
        "\n"
      ]
    },
    {
      "cell_type": "code",
      "metadata": {
        "id": "z9vqOF1m1ARS",
        "colab_type": "code",
        "outputId": "fee4bc56-e39f-496d-ee13-5d2fb3e23dc5",
        "colab": {
          "base_uri": "https://localhost:8080/",
          "height": 34
        }
      },
      "source": [
        "np.argmax(predictions_single[0])"
      ],
      "execution_count": 0,
      "outputs": [
        {
          "output_type": "execute_result",
          "data": {
            "text/plain": [
              "9"
            ]
          },
          "metadata": {
            "tags": []
          },
          "execution_count": 31
        }
      ]
    },
    {
      "cell_type": "markdown",
      "metadata": {
        "id": "UW7rmgYT1HTA",
        "colab_type": "text"
      },
      "source": [
        "E, como antes, o modelo previu a label como 9.\n",
        "\n"
      ]
    }
  ]
}